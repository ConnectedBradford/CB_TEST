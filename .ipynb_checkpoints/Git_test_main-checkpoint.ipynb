{
 "cells": [
  {
   "cell_type": "code",
   "execution_count": 9,
   "id": "cf588642-1b52-4554-80a1-872d3a375c9f",
   "metadata": {
    "tags": []
   },
   "outputs": [],
   "source": [
    "library(bigrquery)\n",
    "library(lubridate) # required for datetime\n",
    "library(tidyverse)\n",
    "library(DBI)\n",
    "library(odbc)\n",
    "library(writexl)"
   ]
  },
  {
   "cell_type": "code",
   "execution_count": 7,
   "id": "8858f5b1-49be-4076-9e17-939ff21195ff",
   "metadata": {
    "tags": []
   },
   "outputs": [
    {
     "name": "stdout",
     "output_type": "stream",
     "text": [
      "[1] \"/home/jupyter\"\n"
     ]
    }
   ],
   "source": [
    "# Get the current working directory\n",
    "current_path <- getwd()\n",
    "\n",
    "# Print the current path\n",
    "print(current_path)"
   ]
  },
  {
   "cell_type": "code",
   "execution_count": 10,
   "id": "feaa6a96-b5cb-4ab6-b793-17f6aff35b7a",
   "metadata": {
    "tags": []
   },
   "outputs": [],
   "source": [
    "file_extn <- format(Sys.time(), \"%Y%m%d%H%M%S\")\n",
    "\n",
    "# Include timestamp in file name\n",
    "\n",
    "log_file <- paste0(\"/home/jupyter/processlogfile_\", file_extn, \".txt\")  "
   ]
  },
  {
   "cell_type": "code",
   "execution_count": 14,
   "id": "f477af2e-6e7c-481b-b58f-cf006ebb6f57",
   "metadata": {
    "tags": []
   },
   "outputs": [
    {
     "ename": "ERROR",
     "evalue": "Error in parse(text = input): <text>:1:19: unexpected string constant\n1: odbcinst -q -d -n \"ODBC Driver 17 for SQL Server\"\n                      ^\n",
     "output_type": "error",
     "traceback": [
      "Error in parse(text = input): <text>:1:19: unexpected string constant\n1: odbcinst -q -d -n \"ODBC Driver 17 for SQL Server\"\n                      ^\nTraceback:\n"
     ]
    }
   ],
   "source": [
    "odbcinst -q -d -n \"ODBC Driver 17 for SQL Server\""
   ]
  },
  {
   "cell_type": "code",
   "execution_count": 11,
   "id": "04ef29a5-fa41-44ef-b5fb-1cf33ea68709",
   "metadata": {
    "tags": []
   },
   "outputs": [
    {
     "name": "stdout",
     "output_type": "stream",
     "text": [
      "[1] \"/home/jupyter/processlogfile_20250117145744.txt\"\n"
     ]
    }
   ],
   "source": [
    "print(log_file)"
   ]
  },
  {
   "cell_type": "code",
   "execution_count": 13,
   "id": "dd71aaac-bcc1-4525-9ff6-0a423cb734bd",
   "metadata": {
    "tags": []
   },
   "outputs": [
    {
     "name": "stdout",
     "output_type": "stream",
     "text": [
      "[1] \"yhcr-prd-bradfor-bia-core.CB_MYSPACE_JA\"\n"
     ]
    },
    {
     "ename": "ERROR",
     "evalue": "\u001b[1m\u001b[33mError\u001b[39m in `IRkernel::main()`:\u001b[22m\n\u001b[1m\u001b[22m\u001b[33m!\u001b[39m ODBC failed with error 00000 from \u001b[32m[unixODBC][Driver Manager]\u001b[39m.\n\u001b[31m✖\u001b[39m Can't open lib 'SQL Server' : file not found\n\u001b[36mℹ\u001b[39m From \u001b[34mnanodbc/nanodbc.cpp:1150\u001b[39m.\n",
     "output_type": "error",
     "traceback": [
      "\u001b[1m\u001b[33mError\u001b[39m in `IRkernel::main()`:\u001b[22m\n\u001b[1m\u001b[22m\u001b[33m!\u001b[39m ODBC failed with error 00000 from \u001b[32m[unixODBC][Driver Manager]\u001b[39m.\n\u001b[31m✖\u001b[39m Can't open lib 'SQL Server' : file not found\n\u001b[36mℹ\u001b[39m From \u001b[34mnanodbc/nanodbc.cpp:1150\u001b[39m.\nTraceback:\n",
      "1. dbConnect(odbc::odbc(), driver = \"SQL Server\", server = \"BHTS-CONNECTYOR\", \n .     database = \"CB_MYSPACE_JA_1\", Trusted_Connection = \"True\")",
      "2. .local(drv, ...)",
      "3. OdbcConnection(dsn = dsn, ..., timezone = timezone, timezone_out = timezone_out, \n .     encoding = encoding, bigint = bigint, timeout = timeout, \n .     driver = driver, server = server, database = database, uid = uid, \n .     pwd = pwd, dbms.name = dbms.name, attributes = attributes, \n .     interruptible = interruptible, .connection_string = .connection_string)",
      "4. withCallingHandlers(ptr <- odbc_connect(connection_string, timezone = timezone, \n .     timezone_out = timezone_out, encoding = encoding, bigint = bigint, \n .     timeout = timeout, r_attributes = attributes, interruptible_execution = interruptible), \n .     error = function(cnd) {\n .         check_quoting(args)\n .     })",
      "5. odbc_connect(connection_string, timezone = timezone, timezone_out = timezone_out, \n .     encoding = encoding, bigint = bigint, timeout = timeout, \n .     r_attributes = attributes, interruptible_execution = interruptible)",
      "6. (function (msg, call = trace_back()$call[[1]]) \n . {\n .     tryCatch(res <- parse_database_error(msg), error = function(e) cli::cli_abort(msg, \n .         call = call))\n .     cli::cli_abort(c(`!` = \"ODBC failed with error {res$cnd_context_code} from \\\\\\n             {.field {paste0(res$cnd_context_driver, collapse = '')}}.\", \n .         set_names(res$cnd_body, nm = c(\"x\", rep(\"*\", length(res$cnd_body) - \n .             1))), i = \"From {.file {res$cnd_context_nanodbc}}.\"), \n .         call = call)\n . })(\"nanodbc/nanodbc.cpp:1150: 00000\\n[unixODBC][Driver Manager]Can't open lib 'SQL Server' : file not found \")",
      "7. cli::cli_abort(c(`!` = \"ODBC failed with error {res$cnd_context_code} from \\\\\\n             {.field {paste0(res$cnd_context_driver, collapse = '')}}.\", \n .     set_names(res$cnd_body, nm = c(\"x\", rep(\"*\", length(res$cnd_body) - \n .         1))), i = \"From {.file {res$cnd_context_nanodbc}}.\"), \n .     call = call)",
      "8. rlang::abort(message, ..., call = call, use_cli_format = TRUE, \n .     .frame = .frame)",
      "9. signal_abort(cnd, .file)",
      "10. signalCondition(cnd)"
     ]
    }
   ],
   "source": [
    "# Write a log entry to the file\n",
    "timestamp <- format(Sys.time(), \"%Y-%m-%d %H:%M:%S\")\n",
    "cat(\"Process started at \", timestamp, \"\\n\", file = log_file, append = FALSE)\n",
    "\n",
    "# Store the project ID\n",
    "project_id = \"yhcr-prd-phm-bia-core\"\n",
    "\n",
    "# BigQuery source database (dataset)\n",
    "sourcedb <- 'yhcr-prd-bradfor-bia-core.CB_MYSPACE_JA'\n",
    "print(sourcedb)\n",
    "\n",
    "# Establish connection to SQL Server\n",
    "sql_conn <- dbConnect(odbc::odbc(), \n",
    "                      driver = \"SQL Server\", \n",
    "                      server = \"BHTS-CONNECTYOR\", \n",
    "                      database = \"CB_MYSPACE_JA_1\", \n",
    "                      Trusted_Connection = \"True\")\n",
    "\n",
    "# Tables you want to export\n",
    "included_tables <- c(\n",
    "  \"cb_Absence\"\n",
    ")"
   ]
  },
  {
   "cell_type": "code",
   "execution_count": null,
   "id": "217cc186-d7c3-4cda-a937-5c6a342e36c3",
   "metadata": {},
   "outputs": [],
   "source": []
  }
 ],
 "metadata": {
  "environment": {
   "kernel": "ir",
   "name": "r-cpu.m125",
   "type": "gcloud",
   "uri": "us-docker.pkg.dev/deeplearning-platform-release/gcr.io/r-cpu:m125"
  },
  "kernelspec": {
   "display_name": "R (Local)",
   "language": "R",
   "name": "ir"
  },
  "language_info": {
   "codemirror_mode": "r",
   "file_extension": ".r",
   "mimetype": "text/x-r-source",
   "name": "R",
   "pygments_lexer": "r",
   "version": "4.4.1"
  }
 },
 "nbformat": 4,
 "nbformat_minor": 5
}
