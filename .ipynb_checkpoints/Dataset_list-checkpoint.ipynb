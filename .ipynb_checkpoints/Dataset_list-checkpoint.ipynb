{
 "cells": [
  {
   "cell_type": "code",
   "execution_count": 1,
   "id": "25b60bf8-6809-474f-b908-36c93f0bf963",
   "metadata": {
    "tags": []
   },
   "outputs": [
    {
     "name": "stderr",
     "output_type": "stream",
     "text": [
      "/opt/conda/lib/python3.10/site-packages/google/auth/_default.py:76: UserWarning: Your application has authenticated using end user credentials from Google Cloud SDK without a quota project. You might receive a \"quota exceeded\" or \"API not enabled\" error. See the following page for troubleshooting: https://cloud.google.com/docs/authentication/adc-troubleshooting/user-creds. \n",
      "  warnings.warn(_CLOUD_SDK_CREDENTIALS_WARNING)\n"
     ]
    },
    {
     "name": "stdout",
     "output_type": "stream",
     "text": [
      "CB_1322\n",
      "CB_1745\n",
      "CB_1760\n",
      "CB_2078\n",
      "CB_2146\n",
      "CB_2151\n",
      "CB_2167\n",
      "CB_2172\n",
      "CB_2262\n",
      "CB_2353\n",
      "CB_2360\n",
      "CB_2364\n",
      "CB_2375\n",
      "CB_2378\n",
      "CB_2489\n",
      "CB_2617\n",
      "CB_2622\n",
      "CB_2633\n",
      "CB_2634\n",
      "CB_2634_CINCLA\n",
      "CB_2649\n",
      "CB_2705\n",
      "CB_2706_NueroDivergent\n",
      "CB_2707_HUP_FDM\n",
      "CB_2707_HUP_FDM_NO_DFE\n",
      "CB_2797_PoliceMentalHealth\n",
      "CB_2798_MissFromCare\n",
      "CB_MYSPACE_JDB\n",
      "CB_MYSPACE_PAA\n",
      "CB_MYSPACE_RT\n",
      "CB_MYSPACE_SEE\n",
      "CB_MYSPACE_TL\n",
      "ref_Lookups\n"
     ]
    }
   ],
   "source": [
    "from google.cloud import bigquery\n",
    "\n",
    "client = bigquery.Client(project=\"yhcr-prd-bradfor-bia-core\")\n",
    "\n",
    "datasets = list(client.list_datasets())\n",
    "\n",
    "for dataset in datasets:\n",
    "    print(dataset.dataset_id)\n"
   ]
  },
  {
   "cell_type": "code",
   "execution_count": null,
   "id": "d157afbd-ddc0-4b4a-8ce2-7fdfc5ab9ce9",
   "metadata": {},
   "outputs": [],
   "source": []
  }
 ],
 "metadata": {
  "environment": {
   "kernel": "python3",
   "name": "r-cpu.m125",
   "type": "gcloud",
   "uri": "us-docker.pkg.dev/deeplearning-platform-release/gcr.io/r-cpu:m125"
  },
  "kernelspec": {
   "display_name": "Python 3 (Local)",
   "language": "python",
   "name": "python3"
  },
  "language_info": {
   "codemirror_mode": {
    "name": "ipython",
    "version": 3
   },
   "file_extension": ".py",
   "mimetype": "text/x-python",
   "name": "python",
   "nbconvert_exporter": "python",
   "pygments_lexer": "ipython3",
   "version": "3.10.15"
  }
 },
 "nbformat": 4,
 "nbformat_minor": 5
}
