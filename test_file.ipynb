{
 "cells": [
  {
   "cell_type": "code",
   "execution_count": 1,
   "id": "eae3b907-7362-4d81-a485-8c0c7c7cb6f6",
   "metadata": {
    "tags": []
   },
   "outputs": [],
   "source": [
    "import sys"
   ]
  },
  {
   "cell_type": "code",
   "execution_count": 2,
   "id": "ca9540b6-7d3f-4013-acca-03824db2afae",
   "metadata": {
    "tags": []
   },
   "outputs": [
    {
     "data": {
      "text/plain": [
       "sys.version_info(major=3, minor=10, micro=15, releaselevel='final', serial=0)"
      ]
     },
     "execution_count": 2,
     "metadata": {},
     "output_type": "execute_result"
    }
   ],
   "source": [
    "sys.version_info"
   ]
  },
  {
   "cell_type": "code",
   "execution_count": 1,
   "id": "860ecb17-5c16-426f-8c99-916aa19f7c38",
   "metadata": {},
   "outputs": [
    {
     "name": "stderr",
     "output_type": "stream",
     "text": [
      "/opt/conda/lib/python3.10/site-packages/google/auth/_default.py:76: UserWarning: Your application has authenticated using end user credentials from Google Cloud SDK without a quota project. You might receive a \"quota exceeded\" or \"API not enabled\" error. See the following page for troubleshooting: https://cloud.google.com/docs/authentication/adc-troubleshooting/user-creds. \n",
      "  warnings.warn(_CLOUD_SDK_CREDENTIALS_WARNING)\n"
     ]
    },
    {
     "name": "stdout",
     "output_type": "stream",
     "text": [
      "CB_1242\n",
      "CB_1322\n",
      "CB_1341\n",
      "CB_1401\n",
      "CB_1551\n",
      "CB_1561\n",
      "CB_1645\n",
      "CB_1646\n",
      "CB_1646_Jones\n",
      "CB_1659\n",
      "CB_1659_Hou\n",
      "CB_1676\n",
      "CB_1677\n",
      "CB_1715_Birks\n",
      "CB_1715_Brake\n",
      "CB_1715_Hass\n",
      "CB_1741\n",
      "CB_1745\n",
      "CB_1760\n",
      "CB_1876\n",
      "CB_1935_AK\n",
      "CB_1937_IB\n",
      "CB_2047\n",
      "CB_2059_EB\n",
      "CB_2060_DL\n",
      "CB_2062\n",
      "CB_2063\n",
      "CB_2064\n",
      "CB_2066\n",
      "CB_2068\n",
      "CB_2107\n",
      "CB_2121\n",
      "CB_2122\n",
      "CB_2134\n",
      "CB_2165\n",
      "CB_2166\n",
      "CB_2167\n",
      "CB_2168\n",
      "CB_2172\n",
      "CB_2177\n",
      "CB_2191\n",
      "CB_2199\n",
      "CB_2262\n",
      "CB_2308\n",
      "CB_2352\n",
      "CB_2353\n",
      "CB_2354\n",
      "CB_2360\n",
      "CB_2364\n",
      "CB_2375\n",
      "CB_2378\n",
      "CB_2398\n",
      "CB_2489\n",
      "CB_2507\n",
      "CB_2514\n",
      "CB_2583\n",
      "CB_2584_BCG\n",
      "CB_2634\n",
      "CB_2649\n",
      "CB_2694\n",
      "CB_2705\n",
      "CB_CDM_VOCAB\n",
      "CB_FDM_AdultSocialCare\n",
      "CB_FDM_Airedale\n",
      "CB_FDM_Airedale_EmergencyCare\n",
      "CB_FDM_Autism\n",
      "CB_FDM_BradfordRoyalInfirmary\n",
      "CB_FDM_Calderdale\n",
      "CB_FDM_ChildrenInNeed\n",
      "CB_FDM_ChildrenInNeed_V1\n",
      "CB_FDM_ChildrensSocialCare\n",
      "CB_FDM_DeathCertificates\n",
      "CB_FDM_DepartmentForEducation\n",
      "CB_FDM_LabResults\n",
      "CB_FDM_LookedAfterChildren_V1\n",
      "CB_FDM_MASTER\n",
      "CB_FDM_Management\n",
      "CB_FDM_Maternity\n",
      "CB_FDM_MentalHealth\n",
      "CB_FDM_NCMP\n",
      "CB_FDM_PACT\n",
      "CB_FDM_PalliativeCare\n",
      "CB_FDM_PrimaryCare\n",
      "CB_FDM_YAS\n",
      "CB_IMOSPHERE_WORKSPACE\n",
      "CB_MYSPACE_AT\n",
      "CB_MYSPACE_EIE\n",
      "CB_MYSPACE_JA\n",
      "CB_MYSPACE_JDB\n",
      "CB_MYSPACE_LG\n",
      "CB_MYSPACE_OS\n",
      "CB_MYSPACE_PAA\n",
      "CB_MYSPACE_RT\n",
      "CB_MYSPACE_SEE\n",
      "CB_MYSPACE_TL\n",
      "CB_STAGING_DATABASE_NonIdentifiable\n",
      "ref_Lookups\n"
     ]
    }
   ],
   "source": [
    "from google.cloud import bigquery\n",
    "from google.cloud.bigquery import LoadJobConfig\n",
    "from google.cloud.bigquery import SchemaField\n",
    "\n",
    "import datetime\n",
    "\n",
    "\n",
    "bq_client = bigquery.Client(project='yhcr-prd-bradfor-bia-core')\n",
    "dataset_list = bq_client.list_datasets()\n",
    "for dataset in dataset_list:\n",
    "    print(dataset.dataset_id)"
   ]
  },
  {
   "cell_type": "code",
   "execution_count": 2,
   "id": "3015a795-06d9-47e7-a064-01148ee25667",
   "metadata": {
    "tags": []
   },
   "outputs": [
    {
     "name": "stdout",
     "output_type": "stream",
     "text": [
      "Table ID is: TEST\n",
      "done\n",
      "Table ID is: TEST_NEW\n",
      "done\n",
      "Table ID is: ja_test\n",
      "done\n",
      "Table ID is: lkp_PolyPharmacyCode\n",
      "done\n",
      "Table ID is: up_test\n",
      "done\n"
     ]
    }
   ],
   "source": [
    "tables_list = bq_client.list_tables('yhcr-prd-bradfor-bia-core.CB_MYSPACE_JA')\n",
    "\n",
    "for table in tables_list:\n",
    "    print(\"Table ID is: \" + table.table_id)\n",
    "    print( \"done\")"
   ]
  },
  {
   "cell_type": "code",
   "execution_count": 4,
   "id": "e3d8ddee-f9a0-4018-9bc3-3a060f946384",
   "metadata": {
    "tags": []
   },
   "outputs": [
    {
     "name": "stdout",
     "output_type": "stream",
     "text": [
      "The query data:\n",
      "Row(('2018',), {'CB_YEAR': 0})\n",
      "Row(('2019',), {'CB_YEAR': 0})\n"
     ]
    }
   ],
   "source": [
    "query_job = bq_client.query('select * from CB_MYSPACE_JA.TEST limit 2')\n",
    "\n",
    "print(\"The query data:\")\n",
    "for row in query_job:\n",
    "    print(row)"
   ]
  },
  {
   "cell_type": "code",
   "execution_count": 5,
   "id": "8d842a1a-a788-4f79-b849-a329422df1d4",
   "metadata": {
    "tags": []
   },
   "outputs": [
    {
     "name": "stderr",
     "output_type": "stream",
     "text": [
      "/opt/conda/lib/python3.10/site-packages/google/auth/_default.py:76: UserWarning: Your application has authenticated using end user credentials from Google Cloud SDK without a quota project. You might receive a \"quota exceeded\" or \"API not enabled\" error. See the following page for troubleshooting: https://cloud.google.com/docs/authentication/adc-troubleshooting/user-creds. \n",
      "  warnings.warn(_CLOUD_SDK_CREDENTIALS_WARNING)\n"
     ]
    },
    {
     "name": "stdout",
     "output_type": "stream",
     "text": [
      "Table ID is: observation_period\n",
      "done\n",
      "Table ID is: person\n",
      "done\n",
      "Table ID is: tbl_Reception_BDCT_SRCode\n",
      "done\n",
      "Table ID is: tbl_Reception_NCMP\n",
      "done\n",
      "Table ID is: tbl_Reception_SRCode\n",
      "done\n",
      "Table ID is: tbl_Year_Six_BDCT_SRCode\n",
      "done\n",
      "Table ID is: tbl_Year_Six_NCMP\n",
      "done\n",
      "Table ID is: tbl_Year_Six_SRCode\n",
      "done\n"
     ]
    }
   ],
   "source": [
    "bq_client = bigquery.Client(project='yhcr-prd-bradfor-bia-core')\n",
    "\n",
    "tables_list = bq_client.list_tables('yhcr-prd-bradfor-bia-core.CB_2378')\n",
    "\n",
    "for table in tables_list:\n",
    "    print(\"Table ID is: \" + table.table_id)\n",
    "    print( \"done\")"
   ]
  },
  {
   "cell_type": "code",
   "execution_count": 6,
   "id": "af0c353d-9bcd-4944-b5b0-683197801684",
   "metadata": {
    "tags": []
   },
   "outputs": [
    {
     "name": "stdout",
     "output_type": "stream",
     "text": [
      "The query data:\n",
      "Row((0, 'Unknown/Refuse to say', 'M', 12391578, 'D5D3A094210B01C87D687A45C6E1DA6106DC7F4E84103E1C49F0F5EFD62221CD', None, None, 46285832, 45766034, 2011, 46285832, 'Unknown/Refuse to say', None, datetime.datetime(2011, 3, 15, 0, 0, tzinfo=datetime.timezone.utc), 15, 3, None, 0, 45766034), {'ethnicity_source_concept_id': 0, 'race_source_value': 1, 'gender_source_value': 2, 'person_source_value': 3, 'person_id_hashed': 4, 'care_site_id': 5, 'provider_id': 6, 'ethnicity_concept_id': 7, 'gender_source_concept_id': 8, 'year_of_birth': 9, 'race_concept_id': 10, 'ethnicity_source_value': 11, 'death_datetime': 12, 'birth_datetime': 13, 'day_of_birth': 14, 'month_of_birth': 15, 'location_id': 16, 'race_source_concept_id': 17, 'gender_concept_id': 18})\n",
      "Row((0, 'Unknown/Refuse to say', 'M', 13608951, '7BE3DDB285A8D52F5450556212838DE96576E0CFB686FB2A35B19C83E602B4B3', None, None, 46285832, 45766034, 2011, 46285832, 'Unknown/Refuse to say', None, datetime.datetime(2011, 3, 15, 0, 0, tzinfo=datetime.timezone.utc), 15, 3, None, 0, 45766034), {'ethnicity_source_concept_id': 0, 'race_source_value': 1, 'gender_source_value': 2, 'person_source_value': 3, 'person_id_hashed': 4, 'care_site_id': 5, 'provider_id': 6, 'ethnicity_concept_id': 7, 'gender_source_concept_id': 8, 'year_of_birth': 9, 'race_concept_id': 10, 'ethnicity_source_value': 11, 'death_datetime': 12, 'birth_datetime': 13, 'day_of_birth': 14, 'month_of_birth': 15, 'location_id': 16, 'race_source_concept_id': 17, 'gender_concept_id': 18})\n"
     ]
    }
   ],
   "source": [
    "query_job = bq_client.query('select * from CB_2378.person limit 2')\n",
    "\n",
    "print(\"The query data:\")\n",
    "for row in query_job:\n",
    "    print(row)"
   ]
  },
  {
   "cell_type": "code",
   "execution_count": null,
   "id": "ea07d514-961d-4a75-a3eb-9b4344983083",
   "metadata": {},
   "outputs": [],
   "source": []
  }
 ],
 "metadata": {
  "environment": {
   "kernel": "python3",
   "name": "r-cpu.m125",
   "type": "gcloud",
   "uri": "us-docker.pkg.dev/deeplearning-platform-release/gcr.io/r-cpu:m125"
  },
  "kernelspec": {
   "display_name": "Python 3 (Local)",
   "language": "python",
   "name": "python3"
  },
  "language_info": {
   "codemirror_mode": {
    "name": "ipython",
    "version": 3
   },
   "file_extension": ".py",
   "mimetype": "text/x-python",
   "name": "python",
   "nbconvert_exporter": "python",
   "pygments_lexer": "ipython3",
   "version": "3.10.15"
  }
 },
 "nbformat": 4,
 "nbformat_minor": 5
}
