{
 "cells": [
  {
   "cell_type": "code",
   "execution_count": 2,
   "id": "70f36a2f-3fd8-4191-a373-c968748cd20a",
   "metadata": {
    "tags": []
   },
   "outputs": [
    {
     "name": "stderr",
     "output_type": "stream",
     "text": [
      "/opt/conda/lib/python3.10/site-packages/google/auth/_default.py:76: UserWarning: Your application has authenticated using end user credentials from Google Cloud SDK without a quota project. You might receive a \"quota exceeded\" or \"API not enabled\" error. See the following page for troubleshooting: https://cloud.google.com/docs/authentication/adc-troubleshooting/user-creds. \n",
      "  warnings.warn(_CLOUD_SDK_CREDENTIALS_WARNING)\n"
     ]
    },
    {
     "name": "stdout",
     "output_type": "stream",
     "text": [
      "Table CB_1760.Type_2_Diabetes_Annual_Review_All_Ordered_10M_1 exported successfully to gs://yhcr-prd-phm-bia-core-data-landing-bradford/JA/Type_2_Diabetes_Annual_Review_All_Ordered_10M_1.csv\n",
      "Table CB_1760.Type_2_Diabetes_Annual_Review_All_Ordered_10M_2 exported successfully to gs://yhcr-prd-phm-bia-core-data-landing-bradford/JA/Type_2_Diabetes_Annual_Review_All_Ordered_10M_2.csv\n"
     ]
    }
   ],
   "source": [
    "from google.cloud import bigquery\n",
    "\n",
    "# Set up the BigQuery client\n",
    "project_id = \"yhcr-prd-bradfor-bia-core\"\n",
    "dataset_id = \"CB_1760\"\n",
    "bucket_name = \"yhcr-prd-phm-bia-core-data-landing-bradford\"\n",
    "folder_path = \"JA\"  # Subfolder in the GCS bucket\n",
    "\n",
    "# Initialize the BigQuery client\n",
    "client = bigquery.Client(project=project_id)\n",
    "\n",
    "# Define the table name pattern (e.g., CB_2398_1, CB_2398_2, ...)\n",
    "table_prefix = \"Type_2_Diabetes_Annual_Review_All_Ordered_10M_\"\n",
    "table_range = range(1,3)  # Change 11 to the desired number of tables (e.g., CB_2398_1 to CB_2398_10)\n",
    "\n",
    "# Loop through and export each table\n",
    "for i in table_range:\n",
    "    table_id = f\"{table_prefix}{i}\"\n",
    "    table_ref = client.dataset(dataset_id).table(table_id)\n",
    "    \n",
    "    # Define the destination URI for GCS\n",
    "    destination_uri = f\"gs://{bucket_name}/{folder_path}/{table_id}.csv\"\n",
    "\n",
    "    # Configure the extract job\n",
    "    extract_job_config = bigquery.ExtractJobConfig(\n",
    "        destination_format=bigquery.DestinationFormat.CSV,  \n",
    "        field_delimiter=\",\",  \n",
    "        print_header=True,  \n",
    "    )\n",
    "\n",
    "    # Start the extract job\n",
    "    extract_job = client.extract_table(\n",
    "        table_ref,\n",
    "        destination_uri,\n",
    "        job_config=extract_job_config\n",
    "    )\n",
    "\n",
    "    # Wait for the job to complete\n",
    "    extract_job.result()\n",
    "\n",
    "    # Check if the job was successful\n",
    "    if extract_job.state == \"DONE\":\n",
    "        print(f\"Table {dataset_id}.{table_id} exported successfully to {destination_uri}\")\n",
    "    else:\n",
    "        print(f\"Job failed for table {dataset_id}.{table_id} with state: {extract_job.state}\")\n"
   ]
  },
  {
   "cell_type": "code",
   "execution_count": null,
   "id": "5d35c738-06a2-41f1-9170-0f4e8da91f1a",
   "metadata": {},
   "outputs": [],
   "source": []
  }
 ],
 "metadata": {
  "environment": {
   "kernel": "python3",
   "name": "r-cpu.m125",
   "type": "gcloud",
   "uri": "us-docker.pkg.dev/deeplearning-platform-release/gcr.io/r-cpu:m125"
  },
  "kernelspec": {
   "display_name": "Python 3 (Local)",
   "language": "python",
   "name": "python3"
  },
  "language_info": {
   "codemirror_mode": {
    "name": "ipython",
    "version": 3
   },
   "file_extension": ".py",
   "mimetype": "text/x-python",
   "name": "python",
   "nbconvert_exporter": "python",
   "pygments_lexer": "ipython3",
   "version": "3.10.15"
  }
 },
 "nbformat": 4,
 "nbformat_minor": 5
}
